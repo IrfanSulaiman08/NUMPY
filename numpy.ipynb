{
  "nbformat": 4,
  "nbformat_minor": 0,
  "metadata": {
    "colab": {
      "provenance": [],
      "authorship_tag": "ABX9TyM3C1zdtuwC5VRo3teNdcHH",
      "include_colab_link": true
    },
    "kernelspec": {
      "name": "python3",
      "display_name": "Python 3"
    },
    "language_info": {
      "name": "python"
    }
  },
  "cells": [
    {
      "cell_type": "markdown",
      "metadata": {
        "id": "view-in-github",
        "colab_type": "text"
      },
      "source": [
        "<a href=\"https://colab.research.google.com/github/IrfanSulaiman08/NUMPY/blob/main/numpy.ipynb\" target=\"_parent\"><img src=\"https://colab.research.google.com/assets/colab-badge.svg\" alt=\"Open In Colab\"/></a>"
      ]
    },
    {
      "cell_type": "code",
      "execution_count": null,
      "metadata": {
        "id": "pLyfPyV9E39O",
        "colab": {
          "base_uri": "https://localhost:8080/"
        },
        "outputId": "572433ff-56e6-4d24-999d-706002dff394"
      },
      "outputs": [
        {
          "output_type": "execute_result",
          "data": {
            "text/plain": [
              "array(['1', '2', '3', '4', 'a'], dtype='<U21')"
            ]
          },
          "metadata": {},
          "execution_count": 2
        }
      ],
      "source": [
        "import numpy as np #numerical python(np) short form of numpy.\n",
        "# array collection of data  with same datatype(homogenious).\n",
        "a=np.array([1,2,3,4])\n",
        "a=np.array([1,2,3.0,4])\n",
        "a=np.array([1,2,3,4,\"a\"])\n",
        "a"
      ]
    },
    {
      "cell_type": "code",
      "source": [
        "#slicing forword slicing and backword slicing\n",
        "b=np.array([1,2,3,4,5])\n",
        "#1,2\n",
        "#print(b[0],b[1])\n",
        "print(b[0:1])\n",
        "#5,4\n",
        "#print(b[-1],b[-2])\n",
        "print(b[-1:-3:-1])\n",
        "#4,5\n",
        "#print(b[3],b[4])\n",
        "print(b[3::])\n",
        "#2,1\n",
        "#print(b[-4],b[-5])\n",
        "print(b[-4::-1])"
      ],
      "metadata": {
        "colab": {
          "base_uri": "https://localhost:8080/"
        },
        "id": "RxQi-6aqHU85",
        "outputId": "59946f8c-5396-49f2-d51e-d50467ff152e"
      },
      "execution_count": null,
      "outputs": [
        {
          "output_type": "stream",
          "name": "stdout",
          "text": [
            "[1]\n",
            "[5 4]\n",
            "[4 5]\n",
            "[2 1]\n"
          ]
        }
      ]
    },
    {
      "cell_type": "code",
      "source": [
        "#dimension\n",
        "\n",
        "a=np.array([0,1,2,3,4])\n",
        "b=np.array([[[0,1],[3,5],[4,5]]])\n",
        "\n",
        "a.ndim # dimension=1 vector\n",
        "b.ndim # dimension=2 matrix\n",
        "print(b)"
      ],
      "metadata": {
        "colab": {
          "base_uri": "https://localhost:8080/"
        },
        "id": "5zw5zwMlI0jk",
        "outputId": "bae67fbd-040f-4043-9070-a15953c1e5d5"
      },
      "execution_count": null,
      "outputs": [
        {
          "output_type": "stream",
          "name": "stdout",
          "text": [
            "[[[0 1]\n",
            "  [3 5]\n",
            "  [4 5]]]\n"
          ]
        }
      ]
    },
    {
      "cell_type": "code",
      "source": [
        "#create  a 2*2 matrix 2,3,4,5\n",
        "a=np.array([[2,3],[4,5]])\n",
        "print(a.ndim)# it is used for show then dimension\n",
        "print(a)\n",
        "print(a.shape)#matrix form that means 2*2 matrix .\n",
        "print(a.size)# total number of elements in array list."
      ],
      "metadata": {
        "colab": {
          "base_uri": "https://localhost:8080/"
        },
        "id": "KMDFomd8KfYe",
        "outputId": "ea7e2ddd-8fbc-43e6-fdeb-2507f021b033"
      },
      "execution_count": null,
      "outputs": [
        {
          "output_type": "stream",
          "name": "stdout",
          "text": [
            "2\n",
            "[[2 3]\n",
            " [4 5]]\n",
            "(2, 2)\n",
            "4\n"
          ]
        }
      ]
    },
    {
      "cell_type": "code",
      "source": [
        "#create a 2*3 matrix and print size,shape,dimension.\n",
        "b=np.array([[1,2,3],[4,5,6]])\n",
        "print(b)\n",
        "print(b.size)\n",
        "print(b.shape)\n",
        "print(b.ndim)"
      ],
      "metadata": {
        "colab": {
          "base_uri": "https://localhost:8080/"
        },
        "id": "XNRX8naHLjzS",
        "outputId": "85651597-0d05-4f46-b5d5-bc84b6347a41"
      },
      "execution_count": null,
      "outputs": [
        {
          "output_type": "stream",
          "name": "stdout",
          "text": [
            "[[1 2 3]\n",
            " [4 5 6]]\n",
            "6\n",
            "(2, 3)\n",
            "2\n"
          ]
        }
      ]
    },
    {
      "cell_type": "code",
      "source": [
        "#create 4*2 matrix display its size,shape,dimension.\n",
        "\n",
        "z=np.array([[1,2],[3,4],[5,6],[7,8]])\n",
        "print(z.ndim)\n",
        "print(z.size)\n",
        "print(z.shape)"
      ],
      "metadata": {
        "colab": {
          "base_uri": "https://localhost:8080/"
        },
        "id": "1j8HtYANMSG4",
        "outputId": "ede44498-ee5b-480b-8579-36329d8d97e8"
      },
      "execution_count": null,
      "outputs": [
        {
          "output_type": "stream",
          "name": "stdout",
          "text": [
            "2\n",
            "8\n",
            "(4, 2)\n"
          ]
        }
      ]
    },
    {
      "cell_type": "code",
      "source": [
        "#create 4*4 matrix\n",
        "x=np.array([[1,2,3,4],[5,6,7,8],[9,10,11,12],[13,14,15,16]])\n",
        "print(x)\n",
        "print(x.ndim)\n",
        "print(x.shape)\n",
        "print(x.size)"
      ],
      "metadata": {
        "colab": {
          "base_uri": "https://localhost:8080/"
        },
        "id": "1OhxHcTANaIe",
        "outputId": "ecf0512f-ba36-4d31-f160-eee322241fff"
      },
      "execution_count": null,
      "outputs": [
        {
          "output_type": "stream",
          "name": "stdout",
          "text": [
            "[[ 1  2  3  4]\n",
            " [ 5  6  7  8]\n",
            " [ 9 10 11 12]\n",
            " [13 14 15 16]]\n",
            "2\n",
            "(4, 4)\n",
            "16\n"
          ]
        }
      ]
    },
    {
      "cell_type": "code",
      "source": [
        "print(x[0])\n",
        "x[:,0]#for printing column.\n",
        "#3\n",
        "x[0,2]\n",
        "#5\n",
        "x[1,0]\n",
        "#15,16\n",
        "x[3,2:]#(:)for starting to end.\n",
        "#[10,11\n",
        "#14,15]\n",
        "x[2:,1:3]"
      ],
      "metadata": {
        "colab": {
          "base_uri": "https://localhost:8080/"
        },
        "id": "9DS74Dz7FYCc",
        "outputId": "58724151-c700-439f-bb56-10e7c2f34523"
      },
      "execution_count": null,
      "outputs": [
        {
          "output_type": "stream",
          "name": "stdout",
          "text": [
            "[1 2 3 4]\n"
          ]
        },
        {
          "output_type": "execute_result",
          "data": {
            "text/plain": [
              "array([[10, 11],\n",
              "       [14, 15]])"
            ]
          },
          "metadata": {},
          "execution_count": 18
        }
      ]
    },
    {
      "cell_type": "code",
      "source": [
        "#zero matirx\n",
        "z=np.zeros([3,3,3],dtype=int)\n",
        "z"
      ],
      "metadata": {
        "colab": {
          "base_uri": "https://localhost:8080/"
        },
        "id": "RTcjaUncJE5a",
        "outputId": "81cff41d-6256-4d5c-e642-961f81c7d0f1"
      },
      "execution_count": null,
      "outputs": [
        {
          "output_type": "execute_result",
          "data": {
            "text/plain": [
              "array([[[0, 0, 0],\n",
              "        [0, 0, 0],\n",
              "        [0, 0, 0]],\n",
              "\n",
              "       [[0, 0, 0],\n",
              "        [0, 0, 0],\n",
              "        [0, 0, 0]],\n",
              "\n",
              "       [[0, 0, 0],\n",
              "        [0, 0, 0],\n",
              "        [0, 0, 0]]])"
            ]
          },
          "metadata": {},
          "execution_count": 20
        }
      ]
    },
    {
      "cell_type": "code",
      "source": [
        "#one matrix\n",
        "z=np.ones([3,3],dtype=int)\n",
        "z"
      ],
      "metadata": {
        "colab": {
          "base_uri": "https://localhost:8080/"
        },
        "id": "zgAoWJUjKJXz",
        "outputId": "5b48b030-fa7e-441c-8192-87f0a1888fc3"
      },
      "execution_count": null,
      "outputs": [
        {
          "output_type": "execute_result",
          "data": {
            "text/plain": [
              "array([[1, 1, 1],\n",
              "       [1, 1, 1],\n",
              "       [1, 1, 1]])"
            ]
          },
          "metadata": {},
          "execution_count": 21
        }
      ]
    },
    {
      "cell_type": "code",
      "source": [
        "#create two 2*2 matrix\n",
        "a=np.array([[2,3],[4,5]])\n",
        "a.shape\n",
        "b=np.array([[4,5],[6,7]])\n",
        "b.shape\n",
        "print(a)\n",
        "print(b)"
      ],
      "metadata": {
        "colab": {
          "base_uri": "https://localhost:8080/"
        },
        "id": "N9koM6QKK1lU",
        "outputId": "d40f7aad-fd7b-467b-bb07-0e84d630e407"
      },
      "execution_count": null,
      "outputs": [
        {
          "output_type": "stream",
          "name": "stdout",
          "text": [
            "[[2 3]\n",
            " [4 5]]\n",
            "[[4 5]\n",
            " [6 7]]\n"
          ]
        }
      ]
    },
    {
      "cell_type": "code",
      "source": [
        "#matrix addition\n",
        "print(a+b)\n",
        "#matrix subtarction\n",
        "print(a-b)\n",
        "#matrix multiplication\n",
        "print(a*b)#this not matrix multiplication\n",
        "print(a@b)#@ used for multiply in matrix row by column.this mtrix multiplication\n",
        "print(a.dot(b))#also used for matrix multtiplication (first variable.dot(second variable))\n",
        "#matrix division\n",
        "print(a/b)"
      ],
      "metadata": {
        "colab": {
          "base_uri": "https://localhost:8080/"
        },
        "id": "ECKyYuxuLbTj",
        "outputId": "ba7dee58-2eba-43be-ee6d-586eee5e5105"
      },
      "execution_count": null,
      "outputs": [
        {
          "output_type": "stream",
          "name": "stdout",
          "text": [
            "[[ 6  8]\n",
            " [10 12]]\n",
            "[[-2 -2]\n",
            " [-2 -2]]\n",
            "[[ 8 15]\n",
            " [24 35]]\n",
            "[[26 31]\n",
            " [46 55]]\n",
            "[[26 31]\n",
            " [46 55]]\n",
            "[[0.5        0.6       ]\n",
            " [0.66666667 0.71428571]]\n"
          ]
        }
      ]
    },
    {
      "cell_type": "code",
      "source": [
        "#full matrix\n",
        "z=np.full([3,3],7,dtype=int)\n",
        "z"
      ],
      "metadata": {
        "colab": {
          "base_uri": "https://localhost:8080/"
        },
        "id": "T2l2LeU2OVHX",
        "outputId": "382a9854-6785-49ce-cadf-cb2cd14e30c6"
      },
      "execution_count": null,
      "outputs": [
        {
          "output_type": "execute_result",
          "data": {
            "text/plain": [
              "array([[7, 7, 7],\n",
              "       [7, 7, 7],\n",
              "       [7, 7, 7]])"
            ]
          },
          "metadata": {},
          "execution_count": 31
        }
      ]
    },
    {
      "cell_type": "code",
      "source": [
        "#create 3*4 matrix with value 9 and datatype complex\n",
        "a=np.full([3,4],9,dtype=complex)\n",
        "a"
      ],
      "metadata": {
        "colab": {
          "base_uri": "https://localhost:8080/"
        },
        "id": "PKkZe70pOjy0",
        "outputId": "5acf93db-512e-4483-f305-a5e169e9c9ce"
      },
      "execution_count": null,
      "outputs": [
        {
          "output_type": "execute_result",
          "data": {
            "text/plain": [
              "array([[9.+0.j, 9.+0.j, 9.+0.j, 9.+0.j],\n",
              "       [9.+0.j, 9.+0.j, 9.+0.j, 9.+0.j],\n",
              "       [9.+0.j, 9.+0.j, 9.+0.j, 9.+0.j]])"
            ]
          },
          "metadata": {},
          "execution_count": 33
        }
      ]
    },
    {
      "cell_type": "code",
      "source": [
        "#identity matrix\n",
        "z=np.identity(3,dtype=int)\n",
        "z\n",
        "z=np.eye(4,dtype=int)\n",
        "z"
      ],
      "metadata": {
        "colab": {
          "base_uri": "https://localhost:8080/"
        },
        "id": "pAG3Pk30PAhJ",
        "outputId": "1d5409bd-eb7e-4f80-858b-1a76762a926c"
      },
      "execution_count": null,
      "outputs": [
        {
          "output_type": "execute_result",
          "data": {
            "text/plain": [
              "array([[1, 0, 0, 0],\n",
              "       [0, 1, 0, 0],\n",
              "       [0, 0, 1, 0],\n",
              "       [0, 0, 0, 1]])"
            ]
          },
          "metadata": {},
          "execution_count": 39
        }
      ]
    },
    {
      "cell_type": "code",
      "source": [
        "#create a 4*4 matrix\n",
        "y=np.array([[1,2,3,4],[5,6,7,8],[9,10,11,12],[13,14,15,16]])\n",
        "print(y)\n",
        "print(y.size)"
      ],
      "metadata": {
        "colab": {
          "base_uri": "https://localhost:8080/"
        },
        "id": "HfjfzDepO_Rc",
        "outputId": "84c80830-3432-489e-ba7f-2227b646211d"
      },
      "execution_count": null,
      "outputs": [
        {
          "output_type": "stream",
          "name": "stdout",
          "text": [
            "[[ 1  2  3  4]\n",
            " [ 5  6  7  8]\n",
            " [ 9 10 11 12]\n",
            " [13 14 15 16]]\n",
            "16\n"
          ]
        }
      ]
    },
    {
      "cell_type": "code",
      "source": [
        "a=y.reshape(8,2)\n",
        "a"
      ],
      "metadata": {
        "colab": {
          "base_uri": "https://localhost:8080/"
        },
        "id": "RydvkEx1RO2j",
        "outputId": "01a83b0d-fc16-4ae9-bc1b-c5312d327c3b"
      },
      "execution_count": null,
      "outputs": [
        {
          "output_type": "execute_result",
          "data": {
            "text/plain": [
              "array([[ 1,  2],\n",
              "       [ 3,  4],\n",
              "       [ 5,  6],\n",
              "       [ 7,  8],\n",
              "       [ 9, 10],\n",
              "       [11, 12],\n",
              "       [13, 14],\n",
              "       [15, 16]])"
            ]
          },
          "metadata": {},
          "execution_count": 50
        }
      ]
    },
    {
      "cell_type": "code",
      "source": [
        "#a range\n",
        "a=np.arange(1,10,2)\n",
        "a"
      ],
      "metadata": {
        "colab": {
          "base_uri": "https://localhost:8080/"
        },
        "id": "xDEp3XP_SKzO",
        "outputId": "ea0cad28-2850-4104-f2cd-9cf920d13ace"
      },
      "execution_count": null,
      "outputs": [
        {
          "output_type": "execute_result",
          "data": {
            "text/plain": [
              "array([1, 3, 5, 7, 9])"
            ]
          },
          "metadata": {},
          "execution_count": 52
        }
      ]
    },
    {
      "cell_type": "code",
      "source": [
        "#create a 5*2 matrix using arange\n",
        "a=np.arange(1,11).reshape(5,2)\n",
        "a"
      ],
      "metadata": {
        "colab": {
          "base_uri": "https://localhost:8080/"
        },
        "id": "msObNB0oSnzP",
        "outputId": "f7c29472-ad06-4839-eff3-f4fc985f5f80"
      },
      "execution_count": null,
      "outputs": [
        {
          "output_type": "execute_result",
          "data": {
            "text/plain": [
              "array([[ 1,  2],\n",
              "       [ 3,  4],\n",
              "       [ 5,  6],\n",
              "       [ 7,  8],\n",
              "       [ 9, 10]])"
            ]
          },
          "metadata": {},
          "execution_count": 53
        }
      ]
    },
    {
      "cell_type": "code",
      "source": [
        "#create a 3*3 matrix with float values\n",
        "a=np.array([[1.2,2.3,3.4],[4.5,5.6,6.7],[8.9,9.10,10.11]])\n",
        "a"
      ],
      "metadata": {
        "colab": {
          "base_uri": "https://localhost:8080/"
        },
        "id": "t-69q_0qTJXp",
        "outputId": "00c48c22-f73a-41be-bc68-ecfa836558bd"
      },
      "execution_count": null,
      "outputs": [
        {
          "output_type": "execute_result",
          "data": {
            "text/plain": [
              "array([[ 1.2 ,  2.3 ,  3.4 ],\n",
              "       [ 4.5 ,  5.6 ,  6.7 ],\n",
              "       [ 8.9 ,  9.1 , 10.11]])"
            ]
          },
          "metadata": {},
          "execution_count": 54
        }
      ]
    },
    {
      "cell_type": "markdown",
      "metadata": {
        "id": "f9753baa"
      },
      "source": [
        "Here are some matrix sample questions using NumPy. Try to solve them by writing Python code in the cells below."
      ]
    },
    {
      "cell_type": "markdown",
      "metadata": {
        "id": "93d8dacd"
      },
      "source": [
        "**Question 1:** Create a 3x3 identity matrix."
      ]
    },
    {
      "cell_type": "code",
      "metadata": {
        "id": "34b2ae00",
        "colab": {
          "base_uri": "https://localhost:8080/"
        },
        "outputId": "65cb2044-10c3-4963-fdfd-cfb6e362c79c"
      },
      "source": [
        "# Write your code here to create a 3x3 identity matrix\n",
        "z=np.identity(3,dtype=int)\n",
        "print(z)"
      ],
      "execution_count": null,
      "outputs": [
        {
          "output_type": "stream",
          "name": "stdout",
          "text": [
            "[[1 0 0]\n",
            " [0 1 0]\n",
            " [0 0 1]]\n"
          ]
        }
      ]
    },
    {
      "cell_type": "markdown",
      "metadata": {
        "id": "e18f0f3a"
      },
      "source": [
        "**Question 2:** Create a 4x4 matrix filled with the value 5."
      ]
    },
    {
      "cell_type": "code",
      "metadata": {
        "id": "b87eb2a3",
        "colab": {
          "base_uri": "https://localhost:8080/"
        },
        "outputId": "3f9d8e23-f1fb-49b5-e3f6-eaeb375f7866"
      },
      "source": [
        "# Write your code here to create a 4x4 matrix filled with 5\n",
        "a=np.full([4,4],5,dtype=int)\n",
        "a"
      ],
      "execution_count": null,
      "outputs": [
        {
          "output_type": "execute_result",
          "data": {
            "text/plain": [
              "array([[5, 5, 5, 5],\n",
              "       [5, 5, 5, 5],\n",
              "       [5, 5, 5, 5],\n",
              "       [5, 5, 5, 5]])"
            ]
          },
          "metadata": {},
          "execution_count": 8
        }
      ]
    },
    {
      "cell_type": "markdown",
      "metadata": {
        "id": "836c92e7"
      },
      "source": [
        "**Question 3:** Create a 2x3 matrix with values ranging from 10 to 15 using `arange` and `reshape`."
      ]
    },
    {
      "cell_type": "code",
      "metadata": {
        "id": "4531a804",
        "colab": {
          "base_uri": "https://localhost:8080/"
        },
        "outputId": "cc4ad1f1-be86-42fd-cc38-78b7082ece35"
      },
      "source": [
        "# Write your code here to create a 2x3 matrix using arange and reshape\n",
        "b=np.arange(1,7).reshape(2,3)\n",
        "b"
      ],
      "execution_count": null,
      "outputs": [
        {
          "output_type": "execute_result",
          "data": {
            "text/plain": [
              "array([[1, 2, 3],\n",
              "       [4, 5, 6]])"
            ]
          },
          "metadata": {},
          "execution_count": 9
        }
      ]
    },
    {
      "cell_type": "markdown",
      "metadata": {
        "id": "f5ca8d08"
      },
      "source": [
        "**Question 4:** Given two matrices `A` and `B`, perform matrix addition and matrix multiplication."
      ]
    },
    {
      "cell_type": "code",
      "metadata": {
        "id": "4ad21c25",
        "colab": {
          "base_uri": "https://localhost:8080/"
        },
        "outputId": "9c289ed9-dd3f-414a-ac7d-9fdc98121e45"
      },
      "source": [
        "A = np.array([[1, 2], [3, 4]])\n",
        "B = np.array([[5, 6], [7, 8]])\n",
        "\n",
        "# Write your code here to perform matrix addition and multiplication of A and B\n",
        "print(A@B)"
      ],
      "execution_count": null,
      "outputs": [
        {
          "output_type": "stream",
          "name": "stdout",
          "text": [
            "[[19 22]\n",
            " [43 50]]\n"
          ]
        }
      ]
    },
    {
      "cell_type": "markdown",
      "metadata": {
        "id": "72e4497b"
      },
      "source": [
        "**Question 5:** Create a 3x3 matrix with random integer values between 0 and 10."
      ]
    },
    {
      "cell_type": "code",
      "metadata": {
        "colab": {
          "base_uri": "https://localhost:8080/"
        },
        "id": "abb993fa",
        "outputId": "664ea60c-884a-4c07-84bd-627bc601e7c4"
      },
      "source": [
        "# Write your code here\n",
        "a=np.array([[1,2,3],[4,5,6],[7,8,9]])\n",
        "a"
      ],
      "execution_count": null,
      "outputs": [
        {
          "output_type": "execute_result",
          "data": {
            "text/plain": [
              "array([[1, 2, 3],\n",
              "       [4, 5, 6],\n",
              "       [7, 8, 9]])"
            ]
          },
          "metadata": {},
          "execution_count": 15
        }
      ]
    },
    {
      "cell_type": "markdown",
      "metadata": {
        "id": "517fa9d1"
      },
      "source": [
        "**Question 6:** Given a matrix, extract the second row."
      ]
    },
    {
      "cell_type": "code",
      "metadata": {
        "colab": {
          "base_uri": "https://localhost:8080/"
        },
        "id": "e7e68b44",
        "outputId": "f331a7cd-33a1-4d76-c8da-9f73a30668c4"
      },
      "source": [
        "# Write your code here\n",
        "matrix = np.array([[1, 2, 3], [4, 5, 6], [7, 8, 9]])\n",
        "matrix\n",
        "matrix[1,:]\n",
        "#matrix[1:2,0:]"
      ],
      "execution_count": null,
      "outputs": [
        {
          "output_type": "execute_result",
          "data": {
            "text/plain": [
              "array([4, 5, 6])"
            ]
          },
          "metadata": {},
          "execution_count": 37
        }
      ]
    },
    {
      "cell_type": "markdown",
      "metadata": {
        "id": "8143f77e"
      },
      "source": [
        "**Question 7:** Given a matrix, extract the third column."
      ]
    },
    {
      "cell_type": "code",
      "metadata": {
        "colab": {
          "base_uri": "https://localhost:8080/"
        },
        "id": "c87dd5d9",
        "outputId": "0f197dbf-d445-4c0f-ced1-5bf3672b2425"
      },
      "source": [
        "# Write your code here\n",
        "matrix = np.array([[1, 2, 3], [4, 5, 6], [7, 8, 9]])\n",
        "print(matrix[:,2])"
      ],
      "execution_count": null,
      "outputs": [
        {
          "output_type": "stream",
          "name": "stdout",
          "text": [
            "[3 6 9]\n"
          ]
        }
      ]
    },
    {
      "cell_type": "markdown",
      "metadata": {
        "id": "6507f83a"
      },
      "source": [
        "**Question 8:** Given a matrix, transpose it."
      ]
    },
    {
      "cell_type": "code",
      "metadata": {
        "colab": {
          "base_uri": "https://localhost:8080/"
        },
        "id": "68c3d789",
        "outputId": "4acc5f85-4e8a-426d-d063-f23b098e704f"
      },
      "source": [
        "# Write your code here\n",
        "matrix = np.array([[1, 2], [3, 4], [5, 6]])\n",
        "transpose_matrix=matrix.T\n",
        "print(\"orginal matrix is:\",matrix)\n",
        "print(\"transpose matrix id :\",transpose_matrix)\n"
      ],
      "execution_count": null,
      "outputs": [
        {
          "output_type": "stream",
          "name": "stdout",
          "text": [
            "orginal matrix is: [[1 2]\n",
            " [3 4]\n",
            " [5 6]]\n",
            "transpose matrix id : [[1 3 5]\n",
            " [2 4 6]]\n"
          ]
        }
      ]
    },
    {
      "cell_type": "code",
      "source": [
        "#floor\n",
        "z=np.floor(a)\n",
        "z"
      ],
      "metadata": {
        "colab": {
          "base_uri": "https://localhost:8080/"
        },
        "id": "tIlXjHReUmQ4",
        "outputId": "a75f291e-2041-4ecd-8d28-27f3216f8625"
      },
      "execution_count": null,
      "outputs": [
        {
          "output_type": "execute_result",
          "data": {
            "text/plain": [
              "array([[ 1.,  2.,  3.],\n",
              "       [ 4.,  5.,  6.],\n",
              "       [ 8.,  9., 10.]])"
            ]
          },
          "metadata": {},
          "execution_count": 59
        }
      ]
    },
    {
      "cell_type": "code",
      "source": [
        "#ceil\n",
        "z=np.ceil(a)\n",
        "z"
      ],
      "metadata": {
        "colab": {
          "base_uri": "https://localhost:8080/"
        },
        "id": "aoHycp9lVU8d",
        "outputId": "3d11f4b6-dac0-4f5f-8197-9451280821c5"
      },
      "execution_count": null,
      "outputs": [
        {
          "output_type": "execute_result",
          "data": {
            "text/plain": [
              "array([[ 2.,  3.,  4.],\n",
              "       [ 5.,  6.,  7.],\n",
              "       [ 9., 10., 11.]])"
            ]
          },
          "metadata": {},
          "execution_count": 61
        }
      ]
    },
    {
      "cell_type": "code",
      "source": [
        "#round (above .5 upper value.under .50 or.5 lower value)\n",
        "z=np.round(a)\n",
        "z"
      ],
      "metadata": {
        "colab": {
          "base_uri": "https://localhost:8080/"
        },
        "id": "qLpBYgEmVq17",
        "outputId": "c78a82fb-d9f1-4ec3-f432-a52d5ddf2038"
      },
      "execution_count": null,
      "outputs": [
        {
          "output_type": "execute_result",
          "data": {
            "text/plain": [
              "array([[ 1.,  2.,  3.],\n",
              "       [ 4.,  6.,  7.],\n",
              "       [ 9.,  9., 10.]])"
            ]
          },
          "metadata": {},
          "execution_count": 62
        }
      ]
    },
    {
      "cell_type": "code",
      "source": [
        "#create a 3*3 matrix\n",
        "a=np.arange(1,10).reshape(3,3)\n",
        "print(a)\n",
        "a.max()\n",
        "a.max(axis=1)#row(pandas opposite:-)\n",
        "a.max(axis=0)#column(:-)\n",
        "a.min(axis=1)\n",
        "#a.min(axis=0)\n",
        "a.sum(axis=1)\n",
        "a.sum(axis=0)\n",
        "#sqrt\n",
        "s=np.sqrt(a)\n",
        "s\n",
        "#sin\n",
        "si=np.sin(a)\n",
        "si\n",
        "#cos\n",
        "c=np.cos(a)\n",
        "#tan\n",
        "t=np.tan(a)\n",
        "t\n"
      ],
      "metadata": {
        "colab": {
          "base_uri": "https://localhost:8080/"
        },
        "id": "8Ut5_5EqVqvm",
        "outputId": "ec8de7b1-b3fb-4f9e-b250-30a2381e8118"
      },
      "execution_count": null,
      "outputs": [
        {
          "output_type": "stream",
          "name": "stdout",
          "text": [
            "[[1 2 3]\n",
            " [4 5 6]\n",
            " [7 8 9]]\n"
          ]
        },
        {
          "output_type": "execute_result",
          "data": {
            "text/plain": [
              "array([[ 1.55740772, -2.18503986, -0.14254654],\n",
              "       [ 1.15782128, -3.38051501, -0.29100619],\n",
              "       [ 0.87144798, -6.79971146, -0.45231566]])"
            ]
          },
          "metadata": {},
          "execution_count": 16
        }
      ]
    },
    {
      "cell_type": "code",
      "source": [
        "#flatten:-convert to one dimentional\n",
        "f=a.flatten()\n",
        "f"
      ],
      "metadata": {
        "colab": {
          "base_uri": "https://localhost:8080/"
        },
        "id": "P0FAGEjeUR22",
        "outputId": "07c1f81d-fad8-4d82-ad6a-4c457215221e"
      },
      "execution_count": null,
      "outputs": [
        {
          "output_type": "execute_result",
          "data": {
            "text/plain": [
              "array([1, 2, 3, 4, 5, 6, 7, 8, 9])"
            ]
          },
          "metadata": {},
          "execution_count": 19
        }
      ]
    },
    {
      "cell_type": "code",
      "source": [
        "#sort\n",
        "#create 3*3 matrix\n",
        "m=np.array([[2,3,3],[5,1,3],[7,8,7]])\n",
        "print(m)\n",
        "s=np.sort(m,axis=0)\n",
        "s\n",
        "s=np.sort(m,axis=1)\n",
        "print(s)\n",
        "\n",
        "#arg:-arg in numpy its working based on index.\n",
        "#argsort\n",
        "c=np.argsort(m,axis=1)\n",
        "print(c)\n"
      ],
      "metadata": {
        "colab": {
          "base_uri": "https://localhost:8080/"
        },
        "id": "unVl_pzxeEDq",
        "outputId": "96ae332b-eed5-4192-d117-f4db3c288850"
      },
      "execution_count": 42,
      "outputs": [
        {
          "output_type": "stream",
          "name": "stdout",
          "text": [
            "[[2 3 3]\n",
            " [5 1 3]\n",
            " [7 8 7]]\n",
            "[[2 3 3]\n",
            " [1 3 5]\n",
            " [7 7 8]]\n",
            "[[0 1 2]\n",
            " [1 2 0]\n",
            " [0 2 1]]\n"
          ]
        }
      ]
    },
    {
      "cell_type": "code",
      "source": [
        "#numpy:\n",
        "#1)np.Array:particular data convert into array\n",
        "#2)size,shape,dimension(ndim),slicing,\n",
        "#3)zero matrix,ones matrix,identitu matrix,full matrix(ull matrix is also known as ones matrix)\n",
        "#4)additon,sub,mul(@),(a.dot(b))\n",
        "#5)a range,reshape\n",
        "#6)sum,min,max,axis=1(row),axis=0(column)\n",
        "#7)round,ceil,floor\n",
        "#8)sort,argsort\n",
        "#9)flatten(convert into one dimensional array)"
      ],
      "metadata": {
        "id": "qjM5dS5GgFSM"
      },
      "execution_count": null,
      "outputs": []
    }
  ]
}